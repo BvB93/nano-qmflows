{
 "cells": [
  {
   "cell_type": "markdown",
   "metadata": {},
   "source": [
    "# <font color='green'> Fourier Transform </font>\n",
    "\n",
    "The following development is based on the article: \"*Theoretical analysis of electronic band structure of 2- to 3-nm Si nanocrystals*. PHYSICAL REVIEW B 87, 195420 (2013).\n",
    "\n",
    "The projection of a molecular orbital $\\phi_{i}(\\mathbf{r})$ onto a set of planes waves $e^{i\\mathbf{k'.r}}$ is given by **(1)**\n",
    "\n",
    "$$ \\tilde{\\phi_{i}}(\\mathbf{r}) = <\\phi_{i}(\\mathbf{r}) | e^{i\\mathbf{k'.r}}>$$\n",
    "\n",
    "The molecular orbital can be expanded using Gaussian Type Orbitals (*GTO*) as **(2)**\n",
    "\n",
    "$$\\phi_{i}(\\mathbf{r}) = \\sum_j{c_{ij} \\sum^{L}_{\\nu}{c_{\\nu} \\chi_{\\nu}}}$$\n",
    "\n",
    "where $c_{ij}$ are the molecular orbital coefficients and $\\sum^{L}_{\\nu}{c_{\\nu} \\chi_{\\nu}}$ are the Contracted Gauss Function (*CGF*) with fixed coefficients $c_{\\nu}$. \n",
    "\n",
    "Each *CGF* is defined by the summation over *L* atomic orbitals, defined by **(3)**\n",
    "\\begin{equation*}\n",
    "x^{l} y^{m} z^{n} e^{\\alpha \\mathbf{(R_A -R) ^2}}\n",
    "\\end{equation*}\n",
    "\n",
    "where $R_A$ is the nuclear coordinates where the gaussian function is centered and $ l + m + n =$ `orbital momentum` for the *CGF*.\n",
    "\n",
    "Incerting equations **(2)** into **(1)** we get\n",
    "\n",
    "$$ \\tilde{\\phi_{i}}(\\mathbf{r}) = \\sum_j{c_{ij} \\sum^{L}_{\\nu}{c_{\\nu} <\\chi_{\\nu}| e^{i\\mathbf{k'.r}}>}} $$\n",
    "\n",
    "The term $<\\chi_{\\nu}| e^{i\\mathbf{k'.r}}>$ represents the F*ourier transform* for the atomic\n",
    "orbital."
   ]
  }
 ],
 "metadata": {
  "anaconda-cloud": {},
  "kernelspec": {
   "display_name": "Python [conda env:qmworks]",
   "language": "python",
   "name": "conda-env-qmworks-py"
  },
  "language_info": {
   "codemirror_mode": {
    "name": "ipython",
    "version": 3
   },
   "file_extension": ".py",
   "mimetype": "text/x-python",
   "name": "python",
   "nbconvert_exporter": "python",
   "pygments_lexer": "ipython3",
   "version": "3.5.2"
  }
 },
 "nbformat": 4,
 "nbformat_minor": 1
}
