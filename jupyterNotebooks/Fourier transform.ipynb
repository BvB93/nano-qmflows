{
 "cells": [
  {
   "cell_type": "markdown",
   "metadata": {},
   "source": [
    "# <font color='green'> Fourier Transform </font>\n",
    "\n",
    "The following development is based on the article: \"*Theoretical analysis of electronic band structure of 2- to 3-nm Si nanocrystals*. PHYSICAL REVIEW B 87, 195420 (2013).\n",
    "\n",
    "The projection of a molecular orbital $\\phi_{i}(\\mathbf{R})$ onto a set of planes waves $e^{i\\mathbf{K' . R}}$ is given by **(1)**\n",
    "\n",
    "$$ \\tilde{\\phi_{i}}(\\mathbf{R}) = <\\phi_{i}(\\mathbf{R}) | e^{i\\mathbf{K' . R}}>$$\n",
    "\n",
    "The molecular orbital can be expanded using Gaussian Type Orbitals (*GTO*) as **(2)**\n",
    "\n",
    "$$\\phi_{i}(\\mathbf{R}) = \\sum_j{c_{ij} \\sum^{L}_{\\nu}{c_{\\nu} \\chi_{\\nu}}}$$\n",
    "\n",
    "where $c_{ij}$ are the molecular orbital coefficients and $\\sum^{L}_{\\nu}{c_{\\nu} \\chi_{\\nu}}$ are the Contracted Gauss Function (*CGF*) with fixed coefficients $c_{\\nu}$. \n",
    "\n",
    "Each *CGF* is defined by the summation over *L* atomic orbitals, defined by **(3)**\n",
    "\n",
    "\\begin{equation*}\n",
    "x_{A}^{l} y_{A}^{m} z_{A}^{n} e^{-\\alpha \\mathbf{(R_A - R) ^2}}\\\\\n",
    "\\mathbf{R_A} = (x - A_{x}) + (y - A_{y}) + (z - A_{z})\n",
    "\\end{equation*}\n",
    "\n",
    "\n",
    "where **A** is the nuclear coordinates where the gaussian function is centered and $ l + m + n =$ `orbital momentum` for the *CGF*.\n",
    "\n",
    "Incerting equations **(2)** into **(1)** we get\n",
    "\\begin{equation*}\n",
    "\\tilde{\\phi_{i}}(\\mathbf{R}) = \\sum_j{c_{ij} \\sum^{L}_{\\nu}{c_{\\nu} <\\chi_{\\nu}| e^{i\\mathbf{K' . R}}>}}\n",
    "\\end{equation*}\n",
    "\n",
    "The term $<\\chi_{\\nu}| e^{i\\mathbf{K' . R}}>$ represents the F*ourier transform* for the atomic\n",
    "orbital.  That can subsequently expanded as \n",
    "\n",
    "$\\newcommand{\\inf}{{\\int_{-\\infty}^{\\infty}}}$\n",
    "\\begin{equation*}\n",
    "<\\chi_{\\nu}| e^{i\\mathbf{K' . R}}> = \\sum_{\\nu}^{L}{\n",
    "\\inf{x_{A}^{l} e^{-\\alpha x_{A}^2 } e^{i K_{x} x_{A}} dx} \n",
    "\\inf{y_{A}^{m} e^{-\\alpha y_{A}^2 } e^{i k_{y} y_{A}} dy} \n",
    "\\inf{z_{A}^{n} e^{-\\alpha z_{A}^2 } e^{i k_{z}  z_{A}} dz}}\n",
    "\\end{equation*}\n",
    "Or Using Fourier transform notation\n",
    "\\begin{equation*}\n",
    "\\tilde{\\phi_{i}}(\\mathbf{R}) = \\mathcal{F}(\\phi_{i}(\\mathbf{R}))[\\mathbf{K}] = \n",
    "\\sum_j{c_{ij} \\sum_{\\nu}^{L}{c_{\\nu} \n",
    "\\mathcal{F}(x_{A}^{l} e^{-\\alpha x_{A}^2 })\n",
    "\\mathcal{F}(y_{A}^{m} e^{-\\alpha y_{A}^2 })\n",
    "\\mathcal{F}(z_{A}^{n} e^{-\\alpha z_{A}^2 })}}\n",
    "\\end{equation*}\n",
    "\n",
    "\n",
    "Therefore order to compute the *Fourier transform* of a molecular orbital we need the transformation of the *primitive Gaussian function*, given byt he following expressions,\n",
    "$\\newcommand{\\pial}{{\\frac{\\pi}{\\alpha}}}$\n",
    "\n",
    "\n",
    "*l = 0* \n",
    "\\begin{equation*}\n",
    "\\mathcal{F}(e^{- \\alpha x_{A}^2 })[k] = \\sqrt{\\pial}\\expo \n",
    "\\end{equation*}\n",
    "\n",
    "*l = 1*\n",
    "\\begin{equation*}\n",
    "\\mathcal{F}(x_{A} e^{- \\alpha x_{A}^2 })[k] =\n",
    "-i (\\pial) ^ \\frac{3}{2} k\n",
    "e^{-\\pi k (2 i x_{A} + \\frac{\\pi k}{\\alpha})}\n",
    "\\end{equation*}\n",
    "\n",
    "*l=2*\n",
    "\\begin{equation*}\n",
    "\\mathcal{F}(x_{A}^2 e^{- \\alpha x_{A}^2 })[k]  = \n",
    "\\sqrt{\\frac{\\pi}{\\alpha ^ 5}}\n",
    "(\\frac{\\alpha}{2} - \\pi ^ 2 k^2)\n",
    "e^{-\\pi k (2 i x_{A} +\\frac{\\pi k}{\\alpha})}\n",
    "\\end{equation*}\n",
    "\n"
   ]
  },
  {
   "cell_type": "markdown",
   "metadata": {},
   "source": [
    "# <font color='green'> Implementation </font>\n"
   ]
  },
  {
   "cell_type": "markdown",
   "metadata": {},
   "source": [
    "For the Gaussian type Orbitals of the form $exp(\\alpha x_{A}^2)$ the Fourier transform is given by"
   ]
  },
  {
   "cell_type": "code",
   "execution_count": 12,
   "metadata": {
    "collapsed": false
   },
   "outputs": [
    {
     "data": {
      "text/plain": [
       "sqrt(pi)*exp(-A**2*a + (A*a - I*pi*k)**2/a)/sqrt(a)"
      ]
     },
     "execution_count": 12,
     "metadata": {},
     "output_type": "execute_result"
    }
   ],
   "source": [
    "from sympy import (fourier_transform, exp, pi)\n",
    "from sympy.abc import (a, A, k, l, x)\n",
    "\n",
    "f = exp( -a * ((x-A) ** 2))\n",
    "fourier_transform(f, x, k)"
   ]
  },
  {
   "cell_type": "markdown",
   "metadata": {},
   "source": [
    "Similarly for the $x * exp(\\alpha x_{A}^2)$   GTOs"
   ]
  },
  {
   "cell_type": "code",
   "execution_count": 13,
   "metadata": {
    "collapsed": false
   },
   "outputs": [
    {
     "data": {
      "text/plain": [
       "-I*pi**(3/2)*k*exp(-pi*k*(2*I*A + pi*k/a))/a**(3/2)"
      ]
     },
     "execution_count": 13,
     "metadata": {},
     "output_type": "execute_result"
    }
   ],
   "source": [
    "f = (x-A) * exp( -a * ((x-A) ** 2))\n",
    "fourier_transform(f, x, k)"
   ]
  },
  {
   "cell_type": "markdown",
   "metadata": {},
   "source": [
    "And finally for GTO of the form $x^2 * exp(\\alpha x_{A}^2)$ "
   ]
  },
  {
   "cell_type": "code",
   "execution_count": 14,
   "metadata": {
    "collapsed": false
   },
   "outputs": [
    {
     "data": {
      "text/plain": [
       "sqrt(pi)*(a/2 - pi**2*k**2)*exp(-pi*k*(2*I*A + pi*k/a))/a**(5/2)"
      ]
     },
     "execution_count": 14,
     "metadata": {},
     "output_type": "execute_result"
    }
   ],
   "source": [
    "f = ((x-A) ** 2) * exp( -a * ((x-A) ** 2))\n",
    "fourier_transform(f, x, k)"
   ]
  }
 ],
 "metadata": {
  "anaconda-cloud": {},
  "kernelspec": {
   "display_name": "Python [conda env:qmworks]",
   "language": "python",
   "name": "conda-env-qmworks-py"
  },
  "language_info": {
   "codemirror_mode": {
    "name": "ipython",
    "version": 3
   },
   "file_extension": ".py",
   "mimetype": "text/x-python",
   "name": "python",
   "nbconvert_exporter": "python",
   "pygments_lexer": "ipython3",
   "version": "3.5.2"
  }
 },
 "nbformat": 4,
 "nbformat_minor": 1
}
