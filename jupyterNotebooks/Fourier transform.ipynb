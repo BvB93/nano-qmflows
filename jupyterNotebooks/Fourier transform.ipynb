{
 "cells": [
  {
   "cell_type": "markdown",
   "metadata": {},
   "source": [
    "# <font color='green'> Band Structure simulation for nanoparticles using the momentum density </font>\n",
    "\n",
    "\n",
    "The following development is based on the article: \"*Theoretical analysis of electronic band structure of 2- to 3-nm Si nanocrystals*. PHYSICAL REVIEW B 87, 195420 (2013).\n",
    "\n",
    "\n",
    "## <font color='green'> Fourier Transform </font>\n",
    "\n",
    "The projection of a molecular orbital $\\phi_{i}(\\mathbf{R_{A}})$ onto a set of planes waves $e^{i\\mathbf{K' . R}}$ is given by **(1)**\n",
    "\n",
    "$$ \\tilde{\\phi_{i}}(\\mathbf{R_{A}}) = <\\phi_{i}(\\mathbf{R}) | e^{i\\mathbf{K' .  R}}>$$\n",
    "\n",
    "The molecular orbital can be expanded using Gaussian Type Orbitals (*GTO*) as **(2)**\n",
    "\n",
    "$$\\phi_{i}(\\mathbf{R}) = \\sum_j{c_{ij} \\sum^{L}_{\\nu}{c_{\\nu} \\chi_{\\nu}}}$$\n",
    "\n",
    "where $c_{ij}$ are the molecular orbital coefficients and $\\sum^{L}_{\\nu}{c_{\\nu} \\chi_{\\nu}}$ are the Contracted Gauss Function (*CGF*) with fixed coefficients $c_{\\nu}$. \n",
    "\n",
    "Each *CGF* is defined by the summation over *L* atomic orbitals, defined by **(3)**\n",
    "\n",
    "\\begin{equation*}\n",
    "x_{A}^{l} y_{A}^{m} z_{A}^{n} e^{-\\alpha \\mathbf{(R_A) ^2}}\\\\\n",
    "\\mathbf{R_A} = (x - A_{x})\\hat{x} + (y - A_{y})\\hat{y} + (z - A_{z})\\hat{z}\n",
    "\\end{equation*}\n",
    "\n",
    "\n",
    "where **A** is the nuclear coordinates where the gaussian function is centered and $ l + m + n =$ `orbital momentum` for the *CGF*.\n",
    "\n",
    "Incerting equations **(2)** into **(1)** we get\n",
    "\\begin{equation*}\n",
    "\\tilde{\\phi_{i}}(\\mathbf{R}) = \\sum_j{c_{ij} \\sum^{L}_{\\nu}{c_{\\nu} <\\chi_{\\nu}| e^{i\\mathbf{K' . R}}>}}\n",
    "\\end{equation*}\n",
    "\n",
    "The term $<\\chi_{\\nu}| e^{i\\mathbf{K' . R}}>$ represents the F*ourier transform* for the atomic\n",
    "orbital.  That can subsequently be expanded as \n",
    "\n",
    "$\\newcommand{\\inf}{{\\int_{-\\infty}^{\\infty}}}$\n",
    "\\begin{equation*}\n",
    "<\\chi_{\\nu}| e^{i\\mathbf{K' . R}}> = \n",
    "\\inf{x_{A}^{l} e^{-\\alpha x_{A}^2 } e^{i K_{x} x_{A}} dx} \n",
    "\\inf{y_{A}^{m} e^{-\\alpha y_{A}^2 } e^{i k_{y} y_{A}} dy} \n",
    "\\inf{z_{A}^{n} e^{-\\alpha z_{A}^2 } e^{i k_{z}  z_{A}} dz}\n",
    "\\end{equation*}\n",
    "Or Using Fourier transform notation\n",
    "\\begin{equation*}\n",
    "\\tilde{\\phi_{i}}(\\mathbf{R}) = \\mathcal{F}(\\phi_{i}(\\mathbf{R}))[\\mathbf{K}] = \n",
    "\\sum_j{c_{ij} \\sum_{\\nu}^{L}{c_{\\nu} \n",
    "\\mathcal{F}(x_{A}^{l} e^{-\\alpha x_{A}^2 })\n",
    "\\mathcal{F}(y_{A}^{m} e^{-\\alpha y_{A}^2 })\n",
    "\\mathcal{F}(z_{A}^{n} e^{-\\alpha z_{A}^2 })}}\n",
    "\\end{equation*}\n",
    "\n",
    "\n",
    "In order to compute the *Fourier transform* of a molecular orbital we need the transformation of the *primitive Gaussian function*, as will be explained in the next section.\n"
   ]
  },
  {
   "cell_type": "markdown",
   "metadata": {},
   "source": [
    "## <font color='green'> Fourier Transform of the Molecular Orbitals </font>\n"
   ]
  },
  {
   "cell_type": "markdown",
   "metadata": {},
   "source": [
    "Firstly, since the Cartesian Gaussian functions are centered in an atom **A**, the correspoding Fourier transform is shifted by a factor of $e^{(-i k x_{A})}$. Due to the following property of the Fourier transform:\n",
    "\\begin{equation*}\n",
    "\\mathcal{F}(h(x - A))[k] = e^{(- i k A)} \\mathcal{F}(h(x))[k] \n",
    "\\end{equation*}\n",
    "\n",
    "For the Gaussian type Orbitals of the form $e^{-(\\alpha x^2)}$ the Fourier transform is given by"
   ]
  },
  {
   "cell_type": "code",
   "execution_count": 5,
   "metadata": {
    "collapsed": false
   },
   "outputs": [
    {
     "data": {
      "text/plain": [
       "sqrt(pi)*exp(-pi**2*k**2/a)/sqrt(a)"
      ]
     },
     "execution_count": 5,
     "metadata": {},
     "output_type": "execute_result"
    }
   ],
   "source": [
    "from sympy import (fourier_transform, exp, pi)\n",
    "from sympy.abc import (a, A, k, l, x)\n",
    "\n",
    "f = exp( -a * (x** 2))\n",
    "fourier_transform(f, x, k)"
   ]
  },
  {
   "cell_type": "markdown",
   "metadata": {},
   "source": [
    "Similarly for the $x e^{-(\\alpha x^2)}$   GTOs"
   ]
  },
  {
   "cell_type": "code",
   "execution_count": 6,
   "metadata": {
    "collapsed": false
   },
   "outputs": [
    {
     "data": {
      "text/plain": [
       "-I*pi**(3/2)*k*exp(-pi**2*k**2/a)/a**(3/2)"
      ]
     },
     "execution_count": 6,
     "metadata": {},
     "output_type": "execute_result"
    }
   ],
   "source": [
    "f = x * exp( -a * x ** 2)\n",
    "fourier_transform(f, x, k)"
   ]
  },
  {
   "cell_type": "markdown",
   "metadata": {},
   "source": [
    "And finally for GTO of the form $x^2 e^{-(\\alpha x^2)}$ "
   ]
  },
  {
   "cell_type": "code",
   "execution_count": 7,
   "metadata": {
    "collapsed": false
   },
   "outputs": [
    {
     "data": {
      "text/plain": [
       "sqrt(pi)*(a/2 - pi**2*k**2)*exp(-pi**2*k**2/a)/a**(5/2)"
      ]
     },
     "execution_count": 7,
     "metadata": {},
     "output_type": "execute_result"
    }
   ],
   "source": [
    "f = (x ** 2) * exp( -a * x** 2)\n",
    "fourier_transform(f, x, k)"
   ]
  },
  {
   "cell_type": "markdown",
   "metadata": {
    "collapsed": true
   },
   "source": [
    "After multiplcation by the shift factor, the previous formulas defined the *Fourier transform* of the primitive cartesian Gaussian function. "
   ]
  },
  {
   "cell_type": "markdown",
   "metadata": {},
   "source": [
    "## <font color='green'> Calculating the Fuzzy band</font>\n",
    "In order to comput the **fuzzy band electronic band** structure for a nanocrystal, we use the *unfolded* band structure where each band is situated in a different reciprocal unit cell. In this approach, bands located in higher reciprocal units are considered independently.\n",
    "\n",
    "For the face-centered cubic (fcc) nanocrystal, the *fuzzy electronic band* is computed by averaging over all possible reciprocal unit cells adjacent to the first Brillouin zone (14 in Total, see the referenced paper).  For each one of the reciprocal unit cell it is built a grid between the points where the band will be computed, for exampla $\\Gamma$ and X). We then need to cmpute of the pair of points and average over all the paths.\n",
    "\n",
    "In the unfolded representation there are  a total of 14 $\\Gamma$ points: 6 $\\Gamma_{a}$ and 8 $\\Gamma_{b}$.  And there are 12 X points.  The grids are built between a $\\Gamma$ point and the X points that are directly adjacent to them, it means there are not other symmetry points between them. There are 4 X direct neighbors for each $\\Gamma_{a}$ and 3 $\\Gamma_{b}$, making up a total of  $6 * 4 + 8 * 3= 48$ grids. \n",
    " For examples, the initial an final points for the grid between one $\\Gamma_{a}$ and its 4 neighbors are:"
   ]
  },
  {
   "cell_type": "code",
   "execution_count": 1,
   "metadata": {
    "collapsed": false
   },
   "outputs": [],
   "source": [
    "gamma_alpha_to_Chi = \\\n",
    "[((2, 0, 0), (1, 1, 0)),\n",
    " ((2, 0, 0), (1, -1, 0)),\n",
    " ((2, 0, 0), (1, 0, 1)),\n",
    " ((2, 0, 0), (1, 0, -1))]\n",
    " \n",
    "\n"
   ]
  },
  {
   "cell_type": "markdown",
   "metadata": {},
   "source": [
    "#### <font color='green'> Lattice </font>\n",
    "The previous points in the reciprocal  space correspond to a crystal with lattice unit equal to 1  [$Angstroms$].  Therefore we need to scale then using the lattice constant for the crystal, for instance for the  for the Silicon the lattice constant is  **5.431** [Angstroms]. Then we need to multiply each poinnt in the grid by $\\frac{2\\pi}{5.431} * 1.8897$, where 1.8897 is the constant factor to convert between angstroms an a.u.\n",
    "\n",
    "\n"
   ]
  },
  {
   "cell_type": "markdown",
   "metadata": {},
   "source": [
    "## <font color='green'> Implementation </font>\n",
    "The Fourier transform for the grid in cartesian coordinates is calculated by the following function:"
   ]
  },
  {
   "cell_type": "code",
   "execution_count": null,
   "metadata": {
    "collapsed": true
   },
   "outputs": [],
   "source": [
    "from nac.integrals.fourierTransform import calculate_fourier_trasform_cartesian"
   ]
  },
  {
   "cell_type": "markdown",
   "metadata": {},
   "source": [
    "The function signature is\n",
    "```python\n",
    "from typing import Dict\n",
    "Vector = np.ndarray\n",
    "\n",
    "def calculate_fourier_trasform_cartesian(atomic_symbols: Vector,\n",
    "                                         atomic_coords: Vector,\n",
    "                                         dictCGFs: Dict,\n",
    "                                         number_of_basis: int,\n",
    "                                         path_hdf5: str,\n",
    "                                         project_name: str,\n",
    "                                         orbital: int,\n",
    "                                         ks: Vector) -> Vector:\n",
    "```"
   ]
  }
 ],
 "metadata": {
  "anaconda-cloud": {},
  "kernelspec": {
   "display_name": "Python [conda env:qmflows]",
   "language": "python",
   "name": "conda-env-qmflows-py"
  },
  "language_info": {
   "codemirror_mode": {
    "name": "ipython",
    "version": 3
   },
   "file_extension": ".py",
   "mimetype": "text/x-python",
   "name": "python",
   "nbconvert_exporter": "python",
   "pygments_lexer": "ipython3",
   "version": "3.5.2"
  }
 },
 "nbformat": 4,
 "nbformat_minor": 1
}
