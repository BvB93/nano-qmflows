{
 "cells": [
  {
   "cell_type": "markdown",
   "metadata": {},
   "source": [
    "# Dependencies"
   ]
  },
  {
   "cell_type": "markdown",
   "metadata": {},
   "source": [
    "The `nonadiabatic`  package contains a set of utilities to calculate "
   ]
  },
  {
   "cell_type": "code",
   "execution_count": 1,
   "metadata": {
    "collapsed": true
   },
   "outputs": [],
   "source": [
    "import nac\n",
    "import noodles\n",
    "import qmworks\n"
   ]
  },
  {
   "cell_type": "markdown",
   "metadata": {},
   "source": [
    "### Cp2k Input generation\n",
    "\n",
    "A minimal [cp2k](https://www.cp2k.org/) input looks like:\n"
   ]
  },
  {
   "cell_type": "code",
   "execution_count": null,
   "metadata": {
    "collapsed": true
   },
   "outputs": [],
   "source": [
    "from qmworks import Settings\n",
    "\n",
    "cp2k_args = Settings()\n",
    "cp2k_args.basis = \"DZVP-MOLOPT-SR-GTH\"\n",
    "cp2k_args.potential = \"GTH-PBE\"\n",
    "cp2k_args.cell_parameters = [27.0] * 3\n",
    "cp2k_args.specific.cp2k.force_eval.dft.scf.added_mos = 20\n",
    "cp2k_args.specific.cp2k.force_eval.dft.scf.diagonalization.jacobi_threshold = 1e-6"
   ]
  },
  {
   "cell_type": "markdown",
   "metadata": {
    "collapsed": true
   },
   "source": [
    "qmworks_ automatically create the indented structure of the previous example together with the special character *&* at\n",
    "the beginning and end of each section, and finally the keyword *END* at the end of each section.\n",
    "\n",
    "    \n",
    "Notice that *CP2K* requires the explicit declaration of the basis set together with the charge and the name of\n",
    "the potential used for each one of the atoms. In the previous example the basis for the carbon is *DZVP-MOLOPT-SR-GTH*,\n",
    "while the potential is *GTH-PBE* and the charge *q4*.Also, the simulation cell can be specified using the x, y, z vectors\n",
    "like in the previous example. but also, a cubic box can be easily specified by: ::\n",
    "  \n",
    "  penta.input.force_eval.subsys.cell.ABC = \"[angstrom] 50 50 50\"\n",
    "\n",
    "that result in a simulation cube of 50 cubic angstroms.\n",
    "\n"
   ]
  },
  {
   "cell_type": "code",
   "execution_count": null,
   "metadata": {
    "collapsed": true
   },
   "outputs": [],
   "source": []
  }
 ],
 "metadata": {
  "anaconda-cloud": {},
  "kernelspec": {
   "display_name": "Python [default]",
   "language": "python",
   "name": "python3"
  },
  "language_info": {
   "codemirror_mode": {
    "name": "ipython",
    "version": 3
   },
   "file_extension": ".py",
   "mimetype": "text/x-python",
   "name": "python",
   "nbconvert_exporter": "python",
   "pygments_lexer": "ipython3",
   "version": "3.5.2"
  }
 },
 "nbformat": 4,
 "nbformat_minor": 1
}
