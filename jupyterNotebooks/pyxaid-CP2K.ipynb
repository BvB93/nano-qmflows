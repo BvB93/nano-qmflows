{
 "cells": [
  {
   "cell_type": "markdown",
   "metadata": {},
   "source": [
    "## PYXAID Hamiltonian Calculation using CP2K and QMworks\n"
   ]
  },
  {
   "cell_type": "markdown",
   "metadata": {},
   "source": [
    "THE USER MUST CHANGES THESE VARIABLES ACCORDING TO HER/HIS NEEDS:\n",
    "\n",
    "* project_name\n",
    "* path to the basis and Cp2k Potential\n",
    "* CP2K:\n",
    "  - Range of Molecular oribtals printed by CP2K\n",
    "  - Cell parameter\n",
    "* Settings to Run Cp2k simulations\n",
    " * Path to the trajectory in XYZ\n",
    "\n",
    "The slurm configuration is optional but the user can edit it:\n",
    "\n",
    " | property | default |\n",
    " |:--------:|:-------:|\n",
    " | nodes    |    2    |\n",
    " | tasks    |    24   |\n",
    " | time     | 48:00:00|\n",
    " | name     | namd    |"
   ]
  },
  {
   "cell_type": "code",
   "execution_count": 1,
   "metadata": {
    "collapsed": true
   },
   "outputs": [],
   "source": [
    "from collections import namedtuple\n",
    "from os.path import join\n",
    "import os\n",
    "\n",
    "SLURM = namedtuple(\"SLURM\", (\"nodes\", \"tasks\", \"time\", \"name\"))\n",
    "\n",
    "def main():\n",
    "    \"\"\"\n",
    "    \"\"\"\n",
    "    # USER DEFINED CONFIGURATION\n",
    "    project_name = 'distribute_Cd33Se33'  # name use to create folders\n",
    "\n",
    "    # Path to the basis set used by Cp2k\n",
    "    home = os.path.expanduser('~')\n",
    "    basisCP2K = join(home, \"Cp2k/cp2k_basis/BASIS_MOLOPT\")\n",
    "    potCP2K = join(home, \"Cp2k/cp2k_basis/GTH_POTENTIALS\")\n",
    "    lower_orbital, upper_orbital = 278, 317\n",
    "    cp2k_main, cp2k_guess = cp2k_input(lower_orbital, upper_orbital,\n",
    "                                       cell_parameters=28)\n",
    "\n",
    "    # Trajectory splitting\n",
    "    path_to_trajectory = \"traj1000.xyz\"\n",
    "    blocks = 5  # Number of chunks to split the trajectory\n",
    "\n",
    "    # SLURM Configuration\n",
    "    slurm = SLURM(\n",
    "        nodes=2,\n",
    "        tasks=24,\n",
    "        time=\"48:00:00\",\n",
    "        name=\"namd\"\n",
    "    )\n",
    "\n",
    "#    distribute_computations(project_name, basisCP2K, potCP2K, cp2k_main,\n",
    "#                            cp2k_guess, path_to_trajectory, blocks, slurm)"
   ]
  },
  {
   "cell_type": "code",
   "execution_count": 2,
   "metadata": {
    "collapsed": true
   },
   "outputs": [],
   "source": [
    "from qmworks import Settings\n",
    "\n",
    "def cp2k_input(lower_orbital, upper_orbital, cell_parameters=None):\n",
    "    \"\"\"\n",
    "    # create ``Settings`` for the Cp2K Jobs.\n",
    "    \"\"\"\n",
    "    # Main Cp2k Jobs\n",
    "    cp2k_args = Settings()\n",
    "    cp2k_args.basis = \"DZVP-MOLOPT-SR-GTH\"\n",
    "    cp2k_args.potential = \"GTH-PBE\"\n",
    "    cp2k_args.cell_parameters = [cell_parameters] * 3\n",
    "    main_dft = cp2k_args.specific.cp2k.force_eval.dft\n",
    "    main_dft.scf.added_mos = 20\n",
    "    main_dft.scf.max_scf = 200\n",
    "    main_dft.scf.eps_scf = 1e-5\n",
    "    main_dft['print']['mo']['mo_index_range'] = \"{} {}\".format(lower_orbital,\n",
    "                                                               upper_orbital)\n",
    "    cp2k_args.specific.cp2k.force_eval.subsys.cell.periodic = 'None'\n",
    "\n",
    "    # Setting to calculate the wave function used as guess\n",
    "    cp2k_OT = Settings()\n",
    "    cp2k_OT.basis = \"DZVP-MOLOPT-SR-GTH\"\n",
    "    cp2k_OT.potential = \"GTH-PBE\"\n",
    "    cp2k_OT.cell_parameters = [cell_parameters] * 3\n",
    "    ot_dft = cp2k_OT.specific.cp2k.force_eval.dft\n",
    "    ot_dft.scf.scf_guess = 'atomic'\n",
    "    ot_dft.scf.ot.minimizer = 'DIIS'\n",
    "    ot_dft.scf.ot.n_diis = 7\n",
    "    ot_dft.scf.ot.preconditioner = 'FULL_SINGLE_INVERSE'\n",
    "    ot_dft.scf.added_mos = 0\n",
    "    ot_dft.scf.eps_scf = 1e-05\n",
    "    ot_dft.scf.scf_guess = 'restart'\n",
    "    cp2k_OT.specific.cp2k.force_eval.subsys.cell.periodic = 'None'\n",
    "\n",
    "    return cp2k_args, cp2k_OT"
   ]
  }
 ],
 "metadata": {
  "anaconda-cloud": {},
  "kernelspec": {
   "display_name": "Python [conda env:qmworks]",
   "language": "python",
   "name": "conda-env-qmworks-py"
  },
  "language_info": {
   "codemirror_mode": {
    "name": "ipython",
    "version": 3
   },
   "file_extension": ".py",
   "mimetype": "text/x-python",
   "name": "python",
   "nbconvert_exporter": "python",
   "pygments_lexer": "ipython3",
   "version": "3.5.2"
  }
 },
 "nbformat": 4,
 "nbformat_minor": 1
}
